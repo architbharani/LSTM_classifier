{
 "cells": [
  {
   "cell_type": "code",
   "execution_count": 1,
   "id": "5088ce0d-a215-4d20-977f-a0f61abd8f74",
   "metadata": {},
   "outputs": [
    {
     "name": "stdout",
     "output_type": "stream",
     "text": [
      "cuda\n"
     ]
    }
   ],
   "source": [
    "import torch, torchdata, torchtext\n",
    "from torch import nn\n",
    "\n",
    "import random, math, time\n",
    "\n",
    "device = torch.device('cuda' if torch.cuda.is_available() else 'cpu')\n",
    "print(device)\n",
    "\n",
    "#make our work comparable if restarted the kernel\n",
    "SEED = 1234\n",
    "torch.manual_seed(SEED)\n",
    "torch.backends.cudnn.deterministic = True"
   ]
  },
  {
   "cell_type": "code",
   "execution_count": 2,
   "id": "b6a2937d-6e36-4fc2-8ab4-92fc2f90044b",
   "metadata": {},
   "outputs": [],
   "source": [
    "from datasets import load_dataset\n",
    "\n",
    "df = load_dataset(\"fancyzhx/ag_news\")\n",
    "\n",
    "\n",
    "# 0  -> World\n",
    "# 1  ->Sports\n",
    "# 2  -> Business \n",
    "# 3   -> Sci/Tech\n"
   ]
  },
  {
   "cell_type": "code",
   "execution_count": 3,
   "id": "11b541aa-d19d-424a-8819-cf66f23d7c7b",
   "metadata": {},
   "outputs": [
    {
     "data": {
      "text/plain": [
       "((120000, 2), (7600, 2))"
      ]
     },
     "execution_count": 3,
     "metadata": {},
     "output_type": "execute_result"
    }
   ],
   "source": [
    "train,test=df['train'],df['test']\n",
    "train=train.to_pandas()\n",
    "test=test.to_pandas()\n",
    "train.shape,test.shape"
   ]
  },
  {
   "cell_type": "code",
   "execution_count": 4,
   "id": "60db4519-1eab-4938-b3f6-0e686fb07579",
   "metadata": {},
   "outputs": [
    {
     "data": {
      "text/plain": [
       "((84000, 2), (36000, 2))"
      ]
     },
     "execution_count": 4,
     "metadata": {},
     "output_type": "execute_result"
    }
   ],
   "source": [
    "from sklearn.model_selection import train_test_split\n",
    "train,valid=train_test_split(train,test_size=0.3)\n",
    "train.shape,valid.shape"
   ]
  },
  {
   "cell_type": "code",
   "execution_count": 5,
   "id": "66dd8dbe-aacc-4811-aaf5-bb960a21f129",
   "metadata": {},
   "outputs": [
    {
     "data": {
      "text/plain": [
       "['We', 'are', 'learning', 'pytorch']"
      ]
     },
     "execution_count": 5,
     "metadata": {},
     "output_type": "execute_result"
    }
   ],
   "source": [
    "from torchtext.data.utils import get_tokenizer\n",
    "tokenizer = get_tokenizer('spacy', language='en_core_web_sm')\n",
    "tokens = tokenizer(\"We are learning pytorch \")  \n",
    "tokens"
   ]
  },
  {
   "cell_type": "code",
   "execution_count": 6,
   "id": "cfa24c44-dbcd-4412-b417-59603dbb7891",
   "metadata": {},
   "outputs": [],
   "source": [
    "from torchtext.vocab import build_vocab_from_iterator\n",
    "def yield_tokens(df):\n",
    "    for i,(text,label) in train.iterrows():\n",
    "        yield(tokenizer(text))\n",
    "\n",
    "vocab=build_vocab_from_iterator(yield_tokens(train),specials=['<unk>','<pad>','<eos>','<bos>'])\n",
    "vocab.set_default_index(vocab['<unk>'])\n",
    "mapping=vocab.get_itos()\n"
   ]
  },
  {
   "cell_type": "code",
   "execution_count": 7,
   "id": "e0d9280c-cc22-4688-a2df-80c0a2c00df5",
   "metadata": {},
   "outputs": [],
   "source": [
    "from torchtext.vocab import FastText\n",
    "fast_vectors = FastText(language='simple') \n",
    "fast_embedding = fast_vectors.get_vecs_by_tokens(vocab.get_itos()).to(device)"
   ]
  },
  {
   "cell_type": "code",
   "execution_count": 8,
   "id": "ead5eea0-c7cc-4924-99a8-834b40e8e0b7",
   "metadata": {},
   "outputs": [],
   "source": [
    "\n",
    "from torch.utils.data import DataLoader\n",
    "from torch.nn.utils.rnn import pad_sequence\n",
    "text_pipeline=lambda x:vocab(tokenizer(x))\n",
    "pad_idx=vocab['<pad>']"
   ]
  },
  {
   "cell_type": "code",
   "execution_count": 9,
   "id": "04b0cf69",
   "metadata": {},
   "outputs": [],
   "source": [
    "from torch.utils.data import Dataset\n",
    "\n",
    "class TextClassificationDataset(Dataset):\n",
    "    def __init__(self, dataframe):\n",
    "        self.texts = dataframe['text'].tolist()\n",
    "        self.labels = dataframe['label'].tolist()\n",
    "\n",
    "    def __len__(self):\n",
    "        return len(self.labels)\n",
    "\n",
    "    def __getitem__(self, idx):\n",
    "        return self.texts[idx], self.labels[idx]\n",
    "\n",
    "# Create datasets\n",
    "train_dataset = TextClassificationDataset(train)\n",
    "valid_dataset = TextClassificationDataset(valid)\n",
    "test_dataset = TextClassificationDataset(test)"
   ]
  },
  {
   "cell_type": "code",
   "execution_count": 10,
   "id": "b94c9a3d",
   "metadata": {},
   "outputs": [],
   "source": [
    "def collate_batch(batch):\n",
    "    text_sequence = []\n",
    "    label_sequence = []\n",
    "    length_list = []\n",
    "    for text, label in batch:\n",
    "        preprocess_seq = torch.tensor(text_pipeline(text))\n",
    "        text_sequence.append(preprocess_seq)\n",
    "        label_sequence.append(label)\n",
    "        length_list.append(preprocess_seq.size(0))\n",
    "    return torch.tensor(label_sequence, dtype=torch.int64), pad_sequence(text_sequence, padding_value=pad_idx, batch_first=True), torch.tensor(length_list)"
   ]
  },
  {
   "cell_type": "code",
   "execution_count": 11,
   "id": "0dbddedc-e349-4173-849e-1e8ce156edc8",
   "metadata": {},
   "outputs": [],
   "source": [
    "batch_size = 64\n",
    "\n",
    "train_loader = DataLoader(train_dataset, batch_size=batch_size,\n",
    "                              shuffle=True, collate_fn=collate_batch)\n",
    "valid_loader = DataLoader(valid_dataset, batch_size=batch_size,\n",
    "                              shuffle=True, collate_fn=collate_batch)\n",
    "test_loader  = DataLoader(test_dataset, batch_size=batch_size,\n",
    "                             shuffle=True, collate_fn=collate_batch)"
   ]
  },
  {
   "cell_type": "code",
   "execution_count": 12,
   "id": "a88b9c4b-1eb3-4d74-a500-dff2834720a3",
   "metadata": {},
   "outputs": [],
   "source": [
    "class LSTM(nn.Module):\n",
    "    def __init__(self,input_dim,embed_dim,hidden_dim,output_dim,num_layers,bidirectional,dropout):\n",
    "        super().__init__()\n",
    "        self.embedding=nn.Embedding(input_dim,embed_dim,padding_idx=pad_idx)\n",
    "        self.lstm=nn.LSTM(embed_dim,hidden_dim,num_layers=num_layers,bidirectional=bidirectional,dropout=dropout,batch_first=True)\n",
    "        self.fc=nn.Linear(hidden_dim *2,output_dim)\n",
    "\n",
    "    def forward(self,text,text_length):\n",
    "        embed=self.embedding(text)\n",
    "        packed_embed= nn.utils.rnn.pack_padded_sequence(embed,text_length.to('cpu'),enforce_sorted=False, batch_first=True)\n",
    "        packed_output,(hn,cn)=self.lstm(packed_embed)\n",
    "\n",
    "        hn=torch.cat((hn[-2,:,:],hn[-1,:,:]),dim=1)\n",
    "\n",
    "        return self.fc(hn)\n",
    "\n",
    "    "
   ]
  },
  {
   "cell_type": "code",
   "execution_count": 13,
   "id": "43f1252c-175d-42a7-bb87-c897916780a3",
   "metadata": {},
   "outputs": [],
   "source": [
    "def initialize_weights(m):\n",
    "    if isinstance(m,nn.Linear):\n",
    "        nn.init.xavier_normal_(m.weight)\n",
    "        nn.init.zeros_(m.bias)\n",
    "    elif isinstance(m,nn.LSTM):\n",
    "        for name, param in m.named_parameters():\n",
    "            if 'bias' in name:\n",
    "                nn.init.zeros_(param)\n",
    "            elif 'weight' in name:\n",
    "                nn.init.orthogonal_(param)"
   ]
  },
  {
   "cell_type": "code",
   "execution_count": 14,
   "id": "b0476026-80b1-4868-b30f-de9051154597",
   "metadata": {},
   "outputs": [],
   "source": [
    "input_dim  = len(vocab)\n",
    "hid_dim    = 256\n",
    "emb_dim    = 300        \n",
    "output_dim = 4 \n",
    "num_layers = 2\n",
    "bidirectional = True\n",
    "dropout = 0.5\n",
    "\n",
    "model = LSTM(input_dim, emb_dim, hid_dim, output_dim, num_layers, bidirectional, dropout).to(device)\n",
    "model.apply(initialize_weights)\n",
    "model.embedding.weight.data = fast_embedding "
   ]
  },
  {
   "cell_type": "code",
   "execution_count": 15,
   "id": "f2763cb0-e642-42ca-a82e-4520ab9906c6",
   "metadata": {},
   "outputs": [],
   "source": [
    "\n",
    "import torch.optim as optim\n",
    "lr =1e-3\n",
    "optimizer = optim.Adam(model.parameters(), lr=lr)\n",
    "criterion = nn.CrossEntropyLoss()"
   ]
  },
  {
   "cell_type": "code",
   "execution_count": 16,
   "id": "57f76123",
   "metadata": {},
   "outputs": [],
   "source": [
    "def accuracy(preds, y):\n",
    "    \n",
    "    predicted = torch.max(preds.data, 1)[1]\n",
    "    batch_corr = (predicted == y).sum()\n",
    "    acc = batch_corr / len(y)\n",
    "    \n",
    "    return acc\n",
    "\n",
    "def train_model(model, loader, optimizer, criterion, loader_length):\n",
    "    epoch_loss = 0\n",
    "    epoch_acc = 0\n",
    "    model.train() \n",
    "    \n",
    "    for i, (label, text, text_length) in enumerate(loader): \n",
    "        label = label.to(device) #(batch_size, )\n",
    "        text = text.to(device) #(batch_size, seq len)\n",
    "                \n",
    "        #predict\n",
    "        predictions = model(text, text_length)\n",
    "        \n",
    "        loss = criterion(predictions, label)\n",
    "        acc  = accuracy(predictions, label)\n",
    "        \n",
    "        #backprop\n",
    "        optimizer.zero_grad()\n",
    "        loss.backward()\n",
    "        optimizer.step()\n",
    "        \n",
    "        epoch_loss += loss.item()\n",
    "        epoch_acc += acc.item()\n",
    "                        \n",
    "    return epoch_loss / loader_length, epoch_acc / loader_length\n",
    "\n",
    "\n",
    "def evaluate_model(model, loader, criterion, loader_length):\n",
    "    epoch_loss = 0\n",
    "    epoch_acc = 0\n",
    "    model.eval()\n",
    "    \n",
    "    with torch.no_grad():\n",
    "        for i, (label, text, text_length) in enumerate(loader): \n",
    "            label = label.to(device) #(batch_size, )\n",
    "            text  = text.to(device)  #(seq len, batch_size)\n",
    "\n",
    "            predictions = model(text, text_length)\n",
    "            \n",
    "            loss = criterion(predictions, label)\n",
    "            acc  = accuracy(predictions, label)\n",
    "\n",
    "            epoch_loss += loss.item()\n",
    "            epoch_acc += acc.item()\n",
    "        \n",
    "    return epoch_loss / loader_length, epoch_acc / loader_length\n",
    "\n",
    "\n",
    "\n"
   ]
  },
  {
   "cell_type": "code",
   "execution_count": 17,
   "id": "81a632ff",
   "metadata": {},
   "outputs": [],
   "source": [
    "\n",
    "train_loader_length = len(list(iter(train_loader)))\n",
    "val_loader_length   = len(list(iter(valid_loader)))\n",
    "test_loader_length  = len(list(iter(test_loader)))"
   ]
  },
  {
   "cell_type": "code",
   "execution_count": 18,
   "id": "ac6c0390",
   "metadata": {},
   "outputs": [],
   "source": [
    "import time\n",
    "def epoch_time(start_time, end_time):\n",
    "    elapsed_time = end_time - start_time\n",
    "    elapsed_mins = int(elapsed_time / 60)\n",
    "    elapsed_secs = int(elapsed_time - (elapsed_mins * 60))\n",
    "    return elapsed_mins, elapsed_secs\n"
   ]
  },
  {
   "cell_type": "code",
   "execution_count": 19,
   "id": "bc938522",
   "metadata": {},
   "outputs": [
    {
     "name": "stdout",
     "output_type": "stream",
     "text": [
      "Epoch: 01 | Time: 1m 0s\n",
      "\tTrain Loss: 0.326 | Train Acc: 88.60%\n",
      "\t Val. Loss: 0.240 |  Val. Acc: 92.14%\n",
      "Epoch: 02 | Time: 1m 0s\n",
      "\tTrain Loss: 0.149 | Train Acc: 95.10%\n",
      "\t Val. Loss: 0.226 |  Val. Acc: 92.34%\n",
      "Epoch: 03 | Time: 1m 0s\n",
      "\tTrain Loss: 0.082 | Train Acc: 97.21%\n",
      "\t Val. Loss: 0.291 |  Val. Acc: 91.86%\n",
      "Epoch: 04 | Time: 1m 0s\n",
      "\tTrain Loss: 0.046 | Train Acc: 98.45%\n",
      "\t Val. Loss: 0.321 |  Val. Acc: 91.18%\n",
      "Epoch: 05 | Time: 1m 0s\n",
      "\tTrain Loss: 0.027 | Train Acc: 99.09%\n",
      "\t Val. Loss: 0.428 |  Val. Acc: 91.26%\n",
      "Epoch: 06 | Time: 1m 0s\n",
      "\tTrain Loss: 0.018 | Train Acc: 99.38%\n",
      "\t Val. Loss: 0.478 |  Val. Acc: 91.00%\n",
      "Epoch: 07 | Time: 1m 0s\n",
      "\tTrain Loss: 0.013 | Train Acc: 99.57%\n",
      "\t Val. Loss: 0.540 |  Val. Acc: 90.31%\n",
      "Epoch: 08 | Time: 1m 0s\n",
      "\tTrain Loss: 0.010 | Train Acc: 99.69%\n",
      "\t Val. Loss: 0.581 |  Val. Acc: 90.58%\n"
     ]
    }
   ],
   "source": [
    "best_valid_loss = float('inf')\n",
    "num_epochs      = 8\n",
    "\n",
    "save_path = f'models/{model.__class__.__name__}.pt'\n",
    "\n",
    "train_losses = []\n",
    "train_accs = []\n",
    "valid_losses = []\n",
    "valid_accs = []\n",
    "\n",
    "for epoch in range(num_epochs):\n",
    "    \n",
    "    start_time = time.time()\n",
    "\n",
    "    train_loss, train_acc = train_model(model, train_loader, optimizer, criterion, train_loader_length)\n",
    "    valid_loss, valid_acc = evaluate_model(model, valid_loader, criterion, val_loader_length)\n",
    "    \n",
    "    train_losses.append(train_loss)\n",
    "    train_accs.append(train_acc)\n",
    "    valid_losses.append(valid_loss)\n",
    "    valid_accs.append(valid_acc)\n",
    "    \n",
    "    end_time = time.time()\n",
    "    \n",
    "    epoch_mins, epoch_secs = epoch_time(start_time, end_time)\n",
    "    \n",
    "    if valid_loss < best_valid_loss:\n",
    "        best_valid_loss = valid_loss\n",
    "        torch.save(model.state_dict(), save_path)\n",
    "    \n",
    "    print(f'Epoch: {epoch+1:02} | Time: {epoch_mins}m {epoch_secs}s')\n",
    "    print(f'\\tTrain Loss: {train_loss:.3f} | Train Acc: {train_acc*100:.2f}%')\n",
    "    print(f'\\t Val. Loss: {valid_loss:.3f} |  Val. Acc: {valid_acc*100:.2f}%')"
   ]
  },
  {
   "cell_type": "code",
   "execution_count": 21,
   "id": "2d9c51e5-9e31-4fc4-9a18-99eaab19dee5",
   "metadata": {},
   "outputs": [
    {
     "data": {
      "image/png": "[encoded data removed]",
      "text/plain": [
       "<Figure size 1000x600 with 1 Axes>"
      ]
     },
     "metadata": {},
     "output_type": "display_data"
    }
   ],
   "source": [
    "import matplotlib.pyplot as plt\n",
    "fig = plt.figure(figsize=(10, 6))\n",
    "ax = fig.add_subplot(1, 1, 1)\n",
    "ax.plot(train_losses, label='train loss')\n",
    "ax.plot(valid_losses, label='valid loss')\n",
    "plt.legend()\n",
    "ax.set_xlabel('Epochs')\n",
    "ax.set_ylabel('Loss')\n",
    "plt.show()\n"
   ]
  },
  {
   "cell_type": "code",
   "execution_count": 23,
   "id": "65a955d2",
   "metadata": {},
   "outputs": [
    {
     "name": "stdout",
     "output_type": "stream",
     "text": [
      "Test Loss: 0.238 | Test Acc: 91.84%\n"
     ]
    }
   ],
   "source": [
    "model.load_state_dict(torch.load(save_path))\n",
    "\n",
    "test_loss, test_acc = evaluate_model(model, test_loader, criterion, test_loader_length)\n",
    "\n",
    "print(f'Test Loss: {test_loss:.3f} | Test Acc: {test_acc*100:.2f}%')"
   ]
  },
  {
   "cell_type": "code",
   "execution_count": 24,
   "id": "d5ff42b4",
   "metadata": {},
   "outputs": [
    {
     "data": {
      "text/plain": [
       "tensor([  195,    27,   228,  1855, 15463,     6,    21,   393,    27,  2358,\n",
       "         1285,   228,     6], device='cuda:0')"
      ]
     },
     "execution_count": 24,
     "metadata": {},
     "output_type": "execute_result"
    }
   ],
   "source": [
    "\n",
    "test_str = \"Google is now falling nonstop. The price is really bad now.\"\n",
    "text = torch.tensor(text_pipeline(test_str)).to(device)\n",
    "text"
   ]
  },
  {
   "cell_type": "code",
   "execution_count": 25,
   "id": "0a5873f5",
   "metadata": {},
   "outputs": [],
   "source": [
    "text_list = [x.item() for x in text]\n",
    "text = text.reshape(1, -1)  #because batch_size is 1\n",
    "text_length = torch.tensor([text.size(1)]).to(dtype=torch.int64)\n"
   ]
  },
  {
   "cell_type": "code",
   "execution_count": 35,
   "id": "880b05d6",
   "metadata": {},
   "outputs": [],
   "source": [
    "def predict(text, text_length):\n",
    "    with torch.no_grad():\n",
    "        output = model(text, text_length).squeeze(1)\n",
    "        predicted = torch.max(output.data, 1)[1]\n",
    "        return predicted\n"
   ]
  },
  {
   "cell_type": "code",
   "execution_count": 41,
   "id": "2fbadfd7",
   "metadata": {},
   "outputs": [],
   "source": [
    "def text_input(test_str):\n",
    "    text = torch.tensor(text_pipeline(test_str)).to(device)\n",
    "    text_list = [x.item() for x in text]\n",
    "    text = text.reshape(1, -1) \n",
    "    text_length = torch.tensor([text.size(1)]).to(dtype=torch.int64)\n",
    "    label=predict(text,text_length)\n",
    "    print(label.item())\n"
   ]
  },
  {
   "cell_type": "code",
   "execution_count": 45,
   "id": "b3d704ca",
   "metadata": {},
   "outputs": [
    {
     "name": "stdout",
     "output_type": "stream",
     "text": [
      "3\n"
     ]
    }
   ],
   "source": [
    "text_input(\"Apple will defend a lawsuit against a person\")"
   ]
  },
  {
   "cell_type": "code",
   "execution_count": 46,
   "id": "adec9f27",
   "metadata": {},
   "outputs": [
    {
     "name": "stdout",
     "output_type": "stream",
     "text": [
      "3\n"
     ]
    }
   ],
   "source": [
    "text_input(\"Google will defend a lawsuit against a person\")"
   ]
  },
  {
   "cell_type": "code",
   "execution_count": 48,
   "id": "57eef427",
   "metadata": {},
   "outputs": [
    {
     "name": "stdout",
     "output_type": "stream",
     "text": [
      "2\n"
     ]
    }
   ],
   "source": [
    "text_input(\"India's Tata expands regional footprint via NatSteel buyout (AFP) AFP - India's Tata Iron and Steel Company Ltd. took a strategic step to expand its Asian footprint with the announcement it will buy the Asia-Pacific steel operations of Singapore's NatSteel Ltd.\")"
   ]
  },
  {
   "cell_type": "code",
   "execution_count": 49,
   "id": "15cb3d92",
   "metadata": {},
   "outputs": [
    {
     "name": "stdout",
     "output_type": "stream",
     "text": [
      "0\n"
     ]
    }
   ],
   "source": [
    "text_input(\"Jackson Squares Off With Prosecutor SANTA MARIA, Calif. - Fans of Michael Jackson erupted in cheers Monday as the pop star emerged from a double-decker tour bus and went into court for a showdown with the prosecutor who has pursued him for years on child molestation charges..\")"
   ]
  },
  {
   "cell_type": "code",
   "execution_count": null,
   "id": "19bf2643",
   "metadata": {},
   "outputs": [],
   "source": []
  }
 ],
 "metadata": {
  "kernelspec": {
   "display_name": "Python 3",
   "language": "python",
   "name": "python3"
  },
  "language_info": {
   "codemirror_mode": {
    "name": "ipython",
    "version": 3
   },
   "file_extension": ".py",
   "mimetype": "text/x-python",
   "name": "python",
   "nbconvert_exporter": "python",
   "pygments_lexer": "ipython3",
   "version": "3.10.10"
  }
 },
 "nbformat": 4,
 "nbformat_minor": 5
}
